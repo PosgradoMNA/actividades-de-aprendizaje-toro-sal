{
  "nbformat": 4,
  "nbformat_minor": 0,
  "metadata": {
    "colab": {
      "provenance": [],
      "include_colab_link": true
    },
    "kernelspec": {
      "name": "python3",
      "display_name": "Python 3"
    },
    "language_info": {
      "name": "python"
    }
  },
  "cells": [
    {
      "cell_type": "markdown",
      "metadata": {
        "id": "view-in-github",
        "colab_type": "text"
      },
      "source": [
        "<a href=\"https://colab.research.google.com/github/PosgradoMNA/actividades-de-aprendizaje-toro-sal/blob/main/Avanceproyecto.ipynb\" target=\"_parent\"><img src=\"https://colab.research.google.com/assets/colab-badge.svg\" alt=\"Open In Colab\"/></a>"
      ]
    },
    {
      "cell_type": "code",
      "execution_count": null,
      "metadata": {
        "id": "LzUSMM79NR9P",
        "outputId": "0e6cb421-1096-426a-b31a-f61d059def81",
        "colab": {
          "base_uri": "https://localhost:8080/"
        }
      },
      "outputs": [
        {
          "output_type": "stream",
          "name": "stdout",
          "text": [
            "assignment01 for GitJobish03 and edited in git, and 18\n"
          ]
        }
      ],
      "source": [
        "print('assignment01 for GitJobish03 and edited in git, and 18')"
      ]
    },
    {
      "cell_type": "markdown",
      "source": [
        "# Avance proyecto"
      ],
      "metadata": {
        "id": "NA5rsb-Z8UPn"
      }
    },
    {
      "cell_type": "markdown",
      "source": [
        "1.El nombre que caracteriza el conjunto de datos.\n"
      ],
      "metadata": {
        "id": "pU4HLbzW8cw_"
      }
    },
    {
      "cell_type": "markdown",
      "source": [
        "Fumadores"
      ],
      "metadata": {
        "id": "jtqDS3czy0UI"
      }
    },
    {
      "cell_type": "markdown",
      "source": [
        "2.La organización que lo generó\n"
      ],
      "metadata": {
        "id": "Tfz5pnRk8pco"
      }
    },
    {
      "cell_type": "markdown",
      "source": [
        "3.Incluya un enlace de Internet donde se puedan descargar el base de datos en línea"
      ],
      "metadata": {
        "id": "2gRset0281Kd"
      }
    },
    {
      "cell_type": "markdown",
      "source": [
        "https://www.kaggle.com/code/qusaybtoush1990/predict-smoking-status-accuracy-82-6/data"
      ],
      "metadata": {
        "id": "iwII6VBxywPV"
      }
    },
    {
      "cell_type": "markdown",
      "source": [
        "4.Describe el conjunto de datos. ¿Qué datos contiene?"
      ],
      "metadata": {
        "id": "ORQGXceE866h"
      }
    },
    {
      "cell_type": "markdown",
      "source": [
        "\n",
        "\n",
        "*   ID\n",
        "*   Genero\n",
        "*   Edad\n",
        "*   Altura\n",
        "*   Peso\n",
        "*   Tamaño cintura\n",
        "*   Vista izquierda\n",
        "*   Vista derecha\n",
        "*   Oido izquierdo\n",
        "*   Oido derecho\n",
        "*   Presion arterial sistolica\n",
        "*   Presion arterial distolica\n",
        "*   Glucemia en ayunas\n",
        "*   Colesterol Total\n",
        "*   Trigliceridos\n",
        "*   HDL\n",
        "*   LDL\n",
        "*   Hemoglobina\n",
        "*   Proteina en orina\n",
        "*   Creatina\n",
        "*   AST\n",
        "*   ALT\n",
        "*   Gtp\n",
        "*   Oral\n",
        "*   Caries dental\n",
        "*   tartar\n",
        "*   Fumadores\n",
        "\n",
        "\n",
        "\n",
        "\n",
        "\n",
        "\n",
        "\n",
        "\n"
      ],
      "metadata": {
        "id": "2VnRBCp62Eaa"
      }
    },
    {
      "cell_type": "markdown",
      "source": [
        "5.¿Cuáles son algunas de las preguntas de investigación que podría responder con estos datos? Enumere al menos OCHO (no responda las preguntas)."
      ],
      "metadata": {
        "id": "V6ZDO34Y9BtO"
      }
    },
    {
      "cell_type": "markdown",
      "source": [
        "6.¿Qué actor (empresa, sector de la sociedad, organismo descentralizado, gobierno, etc.) estaría interesado en las preguntas mencionadas que identificó?\n"
      ],
      "metadata": {
        "id": "K_LEJSTp9E2b"
      }
    }
  ]
}