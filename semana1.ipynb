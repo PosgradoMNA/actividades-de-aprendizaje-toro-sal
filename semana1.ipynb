{
  "nbformat": 4,
  "nbformat_minor": 0,
  "metadata": {
    "colab": {
      "provenance": [],
      "authorship_tag": "ABX9TyMmI3xbfqF7Y0UPbTxqJ7Bc",
      "include_colab_link": true
    },
    "kernelspec": {
      "name": "python3",
      "display_name": "Python 3"
    },
    "language_info": {
      "name": "python"
    }
  },
  "cells": [
    {
      "cell_type": "markdown",
      "metadata": {
        "id": "view-in-github",
        "colab_type": "text"
      },
      "source": [
        "<a href=\"https://colab.research.google.com/github/PosgradoMNA/actividades-de-aprendizaje-toro-sal/blob/main/semana1.ipynb\" target=\"_parent\"><img src=\"https://colab.research.google.com/assets/colab-badge.svg\" alt=\"Open In Colab\"/></a>"
      ]
    },
    {
      "cell_type": "markdown",
      "source": [
        "#Modulo 1\n"
      ],
      "metadata": {
        "id": "wJregk0qiJPv"
      }
    },
    {
      "cell_type": "code",
      "execution_count": null,
      "metadata": {
        "id": "zbYcsbous2Gi",
        "outputId": "e3804582-5e67-4a0a-a76f-ffbf179f843d",
        "colab": {
          "base_uri": "https://localhost:8080/"
        }
      },
      "outputs": [
        {
          "output_type": "stream",
          "name": "stdout",
          "text": [
            "hola mundo\n"
          ]
        }
      ],
      "source": [
        "print(\"hola mundo\")\n"
      ]
    },
    {
      "cell_type": "code",
      "source": [
        "print(\"Hello\\nWorld!\")"
      ],
      "metadata": {
        "id": "n-honHW_tjEL",
        "outputId": "f3227bde-d0c0-4396-d23e-aef4144782ce",
        "colab": {
          "base_uri": "https://localhost:8080/"
        }
      },
      "execution_count": null,
      "outputs": [
        {
          "output_type": "stream",
          "name": "stdout",
          "text": [
            "Hello\n",
            "World!\n"
          ]
        }
      ]
    },
    {
      "cell_type": "code",
      "source": [
        "# print('Hello World!')"
      ],
      "metadata": {
        "id": "ZvuouSNXtziT"
      },
      "execution_count": null,
      "outputs": []
    },
    {
      "cell_type": "code",
      "source": [
        "int(1.0)"
      ],
      "metadata": {
        "id": "qA9vYxmWuauF",
        "outputId": "143e8c0e-220c-44d4-ac15-1aaff025c4c4",
        "colab": {
          "base_uri": "https://localhost:8080/"
        }
      },
      "execution_count": null,
      "outputs": [
        {
          "output_type": "execute_result",
          "data": {
            "text/plain": [
              "1"
            ]
          },
          "metadata": {},
          "execution_count": 3
        }
      ]
    },
    {
      "cell_type": "code",
      "source": [
        "bool(1)"
      ],
      "metadata": {
        "id": "2RwEW45ou8Kk",
        "outputId": "68ef2acc-f17d-45d8-d9b2-66440ee2b915",
        "colab": {
          "base_uri": "https://localhost:8080/"
        }
      },
      "execution_count": null,
      "outputs": [
        {
          "output_type": "execute_result",
          "data": {
            "text/plain": [
              "True"
            ]
          },
          "metadata": {},
          "execution_count": 4
        }
      ]
    },
    {
      "cell_type": "code",
      "source": [
        "Name =\"michael jackson\"\n"
      ],
      "metadata": {
        "id": "aVFOPRXFOAPL"
      },
      "execution_count": null,
      "outputs": []
    },
    {
      "cell_type": "code",
      "source": [
        "numbers=\"0123456\"\n",
        "numbers[::2]"
      ],
      "metadata": {
        "id": "-HIWJW9-PBaS",
        "outputId": "4cb38abc-de41-47ff-9ebf-3353f6dd6f0c",
        "colab": {
          "base_uri": "https://localhost:8080/",
          "height": 36
        }
      },
      "execution_count": null,
      "outputs": [
        {
          "output_type": "execute_result",
          "data": {
            "text/plain": [
              "'0246'"
            ],
            "application/vnd.google.colaboratory.intrinsic+json": {
              "type": "string"
            }
          },
          "metadata": {},
          "execution_count": 2
        }
      ]
    },
    {
      "cell_type": "code",
      "source": [
        "3+2*2"
      ],
      "metadata": {
        "id": "wJKqyhzMPhnr",
        "outputId": "a721eb9a-8585-49e1-973f-b2643eb330ce",
        "colab": {
          "base_uri": "https://localhost:8080/"
        }
      },
      "execution_count": null,
      "outputs": [
        {
          "output_type": "execute_result",
          "data": {
            "text/plain": [
              "7"
            ]
          },
          "metadata": {},
          "execution_count": 3
        }
      ]
    },
    {
      "cell_type": "code",
      "source": [
        "name=\"lizz\"\n",
        "print(name[0:2])"
      ],
      "metadata": {
        "id": "I1VwPQqSPmlK",
        "outputId": "8bb126e2-9c9a-4541-ad60-e59b2ead7d73",
        "colab": {
          "base_uri": "https://localhost:8080/"
        }
      },
      "execution_count": null,
      "outputs": [
        {
          "output_type": "stream",
          "name": "stdout",
          "text": [
            "li\n"
          ]
        }
      ]
    },
    {
      "cell_type": "code",
      "source": [
        "var=\"01234567\"\n",
        "print(var[::2])"
      ],
      "metadata": {
        "id": "741p1c9AP4wG",
        "outputId": "35151381-a5f3-4b92-88ec-54098708e093",
        "colab": {
          "base_uri": "https://localhost:8080/"
        }
      },
      "execution_count": null,
      "outputs": [
        {
          "output_type": "stream",
          "name": "stdout",
          "text": [
            "0246\n"
          ]
        }
      ]
    },
    {
      "cell_type": "code",
      "source": [
        "6/2"
      ],
      "metadata": {
        "id": "pRISXaLPi9Z1",
        "outputId": "5033095d-5e84-4276-b37a-bee4cb2ef55f",
        "colab": {
          "base_uri": "https://localhost:8080/"
        }
      },
      "execution_count": null,
      "outputs": [
        {
          "output_type": "execute_result",
          "data": {
            "text/plain": [
              "3.0"
            ]
          },
          "metadata": {},
          "execution_count": 1
        }
      ]
    },
    {
      "cell_type": "code",
      "source": [
        "6//2"
      ],
      "metadata": {
        "id": "x2K8-slXjEOH",
        "outputId": "181f15f7-d6fb-4062-de18-b357bd90511c",
        "colab": {
          "base_uri": "https://localhost:8080/"
        }
      },
      "execution_count": null,
      "outputs": [
        {
          "output_type": "execute_result",
          "data": {
            "text/plain": [
              "3"
            ]
          },
          "metadata": {},
          "execution_count": 2
        }
      ]
    },
    {
      "cell_type": "code",
      "source": [
        "30 + 2 * 60"
      ],
      "metadata": {
        "id": "EKEf1ZOwjSlX",
        "outputId": "ec0a9270-b4db-40b0-de45-cd8076c79428",
        "colab": {
          "base_uri": "https://localhost:8080/"
        }
      },
      "execution_count": null,
      "outputs": [
        {
          "output_type": "execute_result",
          "data": {
            "text/plain": [
              "150"
            ]
          },
          "metadata": {},
          "execution_count": 3
        }
      ]
    },
    {
      "cell_type": "code",
      "source": [
        "x = 43 + 60 + 16 + 41\n",
        "y = x / 60\n",
        "y"
      ],
      "metadata": {
        "id": "AoFa27uEjV3w",
        "outputId": "355bf8aa-a27b-4aec-c0de-bef5e4c7c892",
        "colab": {
          "base_uri": "https://localhost:8080/"
        }
      },
      "execution_count": null,
      "outputs": [
        {
          "output_type": "execute_result",
          "data": {
            "text/plain": [
              "2.6666666666666665"
            ]
          },
          "metadata": {},
          "execution_count": 4
        }
      ]
    },
    {
      "cell_type": "code",
      "source": [
        "name=\"MICHAEL jACKSON\"\n",
        "print(name[0])\n",
        "print (name[6])\n",
        "print(name[-1])\n",
        "len(\"michael\")\n",
        "name[0:3]\n",
        "name[::2]\n",
        "statment=name+\"\\n is the best\"\n",
        "print(statment)\n",
        "a = \"Thriller is the sixth studio album\"\n",
        "print(\"before upper:\", a)\n",
        "b = a.upper()\n",
        "print(\"After upper:\", b)\n",
        "\n",
        "a = \"Michael Jackson is the best\"\n",
        "b = a.replace('Michael', 'Janet')\n",
        "b"
      ],
      "metadata": {
        "id": "Z3Ir3XH8jnpM",
        "outputId": "af36f65a-89e2-40f5-bc6f-140706878ec7",
        "colab": {
          "base_uri": "https://localhost:8080/",
          "height": 157
        }
      },
      "execution_count": null,
      "outputs": [
        {
          "output_type": "stream",
          "name": "stdout",
          "text": [
            "M\n",
            "L\n",
            "N\n",
            "MICHAEL jACKSON\n",
            " is the best\n",
            "before upper: Thriller is the sixth studio album\n",
            "After upper: THRILLER IS THE SIXTH STUDIO ALBUM\n"
          ]
        },
        {
          "output_type": "execute_result",
          "data": {
            "text/plain": [
              "'Janet Jackson is the best'"
            ],
            "application/vnd.google.colaboratory.intrinsic+json": {
              "type": "string"
            }
          },
          "metadata": {},
          "execution_count": 18
        }
      ]
    },
    {
      "cell_type": "markdown",
      "source": [
        "#modulo 2"
      ],
      "metadata": {
        "id": "cajjI2Xg-uIp"
      }
    },
    {
      "cell_type": "code",
      "source": [
        "L = [\"Michael Jackson\", 10.1, 1982]\n",
        "L\n",
        "L = [\"Michael Jackson\", 10.1,1982,\"MJ\",1]\n",
        "L[3:5]\n",
        "L.extend([\"pop\",10])\n",
        "L.append([\"a\",\"b\"])\n",
        "L\n",
        "A = [\"disco\", 10, 1.2]\n",
        "print('Before change:', A)\n",
        "A[0] = 'hard rock'\n",
        "print('After change:', A)\n",
        "print('Before change:', A)\n",
        "del(A[0])\n",
        "print('After change:', A)"
      ],
      "metadata": {
        "id": "DC1-0JiulObf",
        "outputId": "59bcb312-1235-4f2b-e83c-b3144231e164",
        "colab": {
          "base_uri": "https://localhost:8080/"
        }
      },
      "execution_count": null,
      "outputs": [
        {
          "output_type": "stream",
          "name": "stdout",
          "text": [
            "Before change: ['disco', 10, 1.2]\n",
            "After change: ['hard rock', 10, 1.2]\n",
            "Before change: ['hard rock', 10, 1.2]\n",
            "After change: [10, 1.2]\n"
          ]
        }
      ]
    },
    {
      "cell_type": "code",
      "source": [
        "set1 = {\"pop\", \"rock\", \"soul\", \"hard rock\", \"rock\", \"R&B\", \"rock\", \"disco\"}\n",
        "set1\n",
        "album_list = [ \"Michael Jackson\", \"Thriller\", 1982, \"00:42:19\", \\\n",
        "              \"Pop, Rock, R&B\", 46.0, 65, \"30-Nov-82\", None, 10.0]\n",
        "album_set = set(album_list)             \n",
        "album_set\n",
        "music_genres = set([\"pop\", \"pop\", \"rock\", \"folk rock\", \"hard rock\", \"soul\", \\\n",
        "                    \"progressive rock\", \"soft rock\", \"R&B\", \"disco\"])\n",
        "music_genres"
      ],
      "metadata": {
        "id": "TQYUwPGRmnfF",
        "outputId": "3251a45c-e152-410b-e6ac-30cedd6eeaa0",
        "colab": {
          "base_uri": "https://localhost:8080/"
        }
      },
      "execution_count": null,
      "outputs": [
        {
          "output_type": "execute_result",
          "data": {
            "text/plain": [
              "{'R&B',\n",
              " 'disco',\n",
              " 'folk rock',\n",
              " 'hard rock',\n",
              " 'pop',\n",
              " 'progressive rock',\n",
              " 'rock',\n",
              " 'soft rock',\n",
              " 'soul'}"
            ]
          },
          "metadata": {},
          "execution_count": 32
        }
      ]
    },
    {
      "cell_type": "code",
      "source": [
        "album_set1 = set([\"coldplay\", 'dualipa', 'Back in Black'])\n",
        "album_set2 = set([ \"coldplay\", \"Back in Black\", \"The Dark Side of the Moon\"])\n",
        "intersection = album_set1 & album_set2\n",
        "intersection\n",
        "album_set1.difference(album_set2) \n",
        "album_set1.intersection(album_set2)   \n",
        "album_set1.union(album_set2)"
      ],
      "metadata": {
        "id": "l4blgFE_nWvm",
        "outputId": "ca1832d7-5627-451a-d5ee-ba104ddecce9",
        "colab": {
          "base_uri": "https://localhost:8080/"
        }
      },
      "execution_count": 1,
      "outputs": [
        {
          "output_type": "execute_result",
          "data": {
            "text/plain": [
              "{'Back in Black', 'The Dark Side of the Moon', 'coldplay', 'dualipa'}"
            ]
          },
          "metadata": {},
          "execution_count": 1
        }
      ]
    },
    {
      "cell_type": "markdown",
      "source": [
        "#Modulo 3"
      ],
      "metadata": {
        "id": "NSLEwSaQ-JW9"
      }
    },
    {
      "cell_type": "code",
      "source": [],
      "metadata": {
        "id": "MD6lgt1Y-ImL"
      },
      "execution_count": null,
      "outputs": []
    },
    {
      "cell_type": "code",
      "source": [
        "a=5\n",
        "a==6\n",
        "i=9\n",
        "i>5\n",
        "\"ACDC\" == \"Michael Jackson\"\n",
        "\"ACDC\" != \"Michael Jackson\"\n"
      ],
      "metadata": {
        "id": "ORhPFnR5nxmd",
        "outputId": "f51fe31e-892a-49c2-fc9f-b1d802bfbadf",
        "colab": {
          "base_uri": "https://localhost:8080/"
        }
      },
      "execution_count": null,
      "outputs": [
        {
          "output_type": "execute_result",
          "data": {
            "text/plain": [
              "True"
            ]
          },
          "metadata": {},
          "execution_count": 42
        }
      ]
    },
    {
      "cell_type": "code",
      "source": [
        "age = 19\n",
        "\n",
        "\n",
        "if age > 18:\n",
        "    \n",
        "    \n",
        "    print(\"puedes entrar\" )\n",
        "\n",
        "\n",
        "age = 18\n",
        "# age = 19\n",
        "\n",
        "if age > 18:\n",
        "    print(\"puedes entrar\" )\n",
        "else:\n",
        "    print(\"regresa no cumples la edad\" )\n",
        "    \n",
        "\n",
        "\n",
        "\n",
        "\n",
        "\n",
        "age = 18\n",
        "\n",
        "if age > 18:\n",
        "    print(\"puedes entrar\" )\n",
        "elif age == 18:\n",
        "    print(\"muestra tu credencial\")\n",
        "else:\n",
        "    print(\"regresa no cumples la edad\" )\n",
        "    "
      ],
      "metadata": {
        "id": "uuyvCT78oUR8",
        "outputId": "90e886af-8ca7-4353-e76d-2649b13f271b",
        "colab": {
          "base_uri": "https://localhost:8080/"
        }
      },
      "execution_count": 5,
      "outputs": [
        {
          "output_type": "stream",
          "name": "stdout",
          "text": [
            "puedes entrar\n",
            "regresa no cumples la edad\n",
            "muestra tu credencial\n"
          ]
        }
      ]
    },
    {
      "cell_type": "code",
      "source": [
        "car_year = 1983\n",
        "car_year = 1970\n",
        "\n",
        "if car_year > 1980:\n",
        "    print(\"no es antiguo\")\n",
        "else:\n",
        "    print(\"si es antiguo\")\n",
        "    \n",
        "print('')"
      ],
      "metadata": {
        "id": "xUU7qIYJozf_",
        "outputId": "db5df6a5-9d5c-44b8-abcd-4872600e37be",
        "colab": {
          "base_uri": "https://localhost:8080/"
        }
      },
      "execution_count": 6,
      "outputs": [
        {
          "output_type": "stream",
          "name": "stdout",
          "text": [
            "si es antiguo\n",
            "\n"
          ]
        }
      ]
    },
    {
      "cell_type": "code",
      "source": [
        "car_year = 1990\n",
        "\n",
        "if(car_year < 1980) or (car_year > 1989):\n",
        "    print (\"no se considera antiguo\")\n",
        "else:\n",
        "    print(\"se considera antiguo \")"
      ],
      "metadata": {
        "id": "UHrnFMF3pDSt",
        "outputId": "4f3453cd-a135-4f3f-a244-150f1bb6aa14",
        "colab": {
          "base_uri": "https://localhost:8080/"
        }
      },
      "execution_count": null,
      "outputs": [
        {
          "output_type": "stream",
          "name": "stdout",
          "text": [
            "Album was not made in the 1980's\n"
          ]
        }
      ]
    },
    {
      "cell_type": "code",
      "source": [
        "dates = [1982,1980,1973,]\n",
        "N = len(dates)\n",
        "\n",
        "for i in range(N):\n",
        "    print(dates[i]) "
      ],
      "metadata": {
        "id": "Y1NQvas-pL_C",
        "outputId": "5323b7c8-7f86-446d-c8c3-6ebbf23965ee",
        "colab": {
          "base_uri": "https://localhost:8080/"
        }
      },
      "execution_count": null,
      "outputs": [
        {
          "output_type": "stream",
          "name": "stdout",
          "text": [
            "1982\n",
            "1980\n",
            "1973\n"
          ]
        }
      ]
    },
    {
      "cell_type": "code",
      "source": [
        "for i in range(0, 8):\n",
        "    print(i)"
      ],
      "metadata": {
        "id": "dHw_Q8mHpRyA",
        "outputId": "66f87077-cefa-46a0-d67f-ccfa42a16a13",
        "colab": {
          "base_uri": "https://localhost:8080/"
        }
      },
      "execution_count": null,
      "outputs": [
        {
          "output_type": "stream",
          "name": "stdout",
          "text": [
            "0\n",
            "1\n",
            "2\n",
            "3\n",
            "4\n",
            "5\n",
            "6\n",
            "7\n"
          ]
        }
      ]
    },
    {
      "cell_type": "code",
      "source": [
        "\n",
        "squares = ['red', 'yellow', 'green', 'purple', 'blue']\n",
        "\n",
        "for i in range(0, 5):\n",
        "    print(\"Before square \", i, 'is',  squares[i])\n",
        "    squares[i] = 'white'\n",
        "    print(\"After square \", i, 'is',  squares[i])"
      ],
      "metadata": {
        "id": "94o-5gP1pVyE",
        "outputId": "6ff5eba8-b8ee-4fa4-ec2d-47b1b63987bc",
        "colab": {
          "base_uri": "https://localhost:8080/"
        }
      },
      "execution_count": null,
      "outputs": [
        {
          "output_type": "stream",
          "name": "stdout",
          "text": [
            "Before square  0 is red\n",
            "After square  0 is white\n",
            "Before square  1 is yellow\n",
            "After square  1 is white\n",
            "Before square  2 is green\n",
            "After square  2 is white\n",
            "Before square  3 is purple\n",
            "After square  3 is white\n",
            "Before square  4 is blue\n",
            "After square  4 is white\n"
          ]
        }
      ]
    },
    {
      "cell_type": "code",
      "source": [
        "dates = [1982, 1980,1970, 1973, 2000,2022]\n",
        "\n",
        "i = 0\n",
        "year = dates[0]\n",
        "\n",
        "while(year != 1973):    \n",
        "    print(year)\n",
        "    i = i + 1\n",
        "    year = dates[i]\n",
        "    \n",
        "\n",
        "print(\"tomo \", i ,\"repeticiones para cerrar el ciclo.\")"
      ],
      "metadata": {
        "id": "cCXtuecvpgc5",
        "outputId": "ad27bb8e-98c6-422d-ecef-9bc4c95953fa",
        "colab": {
          "base_uri": "https://localhost:8080/"
        }
      },
      "execution_count": 8,
      "outputs": [
        {
          "output_type": "stream",
          "name": "stdout",
          "text": [
            "1982\n",
            "1980\n",
            "1970\n",
            "tomo  3 repeticiones para cerrar el ciclo.\n"
          ]
        }
      ]
    },
    {
      "cell_type": "code",
      "source": [
        "def add(a):\n",
        "    \"\"\"\n",
        "    add 1 to a\n",
        "    \"\"\"\n",
        "    b = a + 1\n",
        "    print(a, \"if you add one\", b)\n",
        "    return(b)\n",
        "    "
      ],
      "metadata": {
        "id": "aqzeqYhhpscA"
      },
      "execution_count": null,
      "outputs": []
    },
    {
      "cell_type": "code",
      "source": [
        "def Mult(a, b):\n",
        "    c = a * b\n",
        "    return(c)\n",
        "    print('This is not printed')\n",
        "    \n",
        "result = Mult(12,2)\n",
        "print(result)"
      ],
      "metadata": {
        "id": "gkuz-n0xpyW7",
        "outputId": "7c0aceea-ced1-4d90-cffa-bb3c2add6c16",
        "colab": {
          "base_uri": "https://localhost:8080/"
        }
      },
      "execution_count": null,
      "outputs": [
        {
          "output_type": "stream",
          "name": "stdout",
          "text": [
            "24\n"
          ]
        }
      ]
    },
    {
      "cell_type": "code",
      "source": [
        "def square(a):\n",
        "    \n",
        "    # Local variable b\n",
        "    b = 1\n",
        "    c = a * a + b\n",
        "    print(a, \"if you square + 1\", c) \n",
        "    return(c)"
      ],
      "metadata": {
        "id": "oj20RDJJp7Fu"
      },
      "execution_count": null,
      "outputs": []
    },
    {
      "cell_type": "code",
      "source": [
        "\n",
        "class Rectangle(object):\n",
        "    \n",
        "    # Constructor\n",
        "    def __init__(self, width=2, height=3, color='r'):\n",
        "        self.height = height \n",
        "        self.width = width\n",
        "        self.color = color\n",
        "    \n",
        "    # Method\n",
        "    def drawRectangle(self):\n",
        "        plt.gca().add_patch(plt.Rectangle((0, 0), self.width, self.height ,fc=self.color))\n",
        "        plt.axis('scaled')\n",
        "        plt.show()\n",
        "SkinnyBlueRectangle = Rectangle(2, 3, 'blue')"
      ],
      "metadata": {
        "id": "_wMIQ8qjqvBx"
      },
      "execution_count": null,
      "outputs": []
    }
  ]
}