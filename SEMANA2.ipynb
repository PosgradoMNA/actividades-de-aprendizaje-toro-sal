{
  "nbformat": 4,
  "nbformat_minor": 0,
  "metadata": {
    "colab": {
      "provenance": [],
      "authorship_tag": "ABX9TyONqX3tWCwSxm+CQdAO48PF",
      "include_colab_link": true
    },
    "kernelspec": {
      "name": "python3",
      "display_name": "Python 3"
    },
    "language_info": {
      "name": "python"
    }
  },
  "cells": [
    {
      "cell_type": "markdown",
      "metadata": {
        "id": "view-in-github",
        "colab_type": "text"
      },
      "source": [
        "<a href=\"https://colab.research.google.com/github/PosgradoMNA/actividades-de-aprendizaje-toro-sal/blob/main/SEMANA2.ipynb\" target=\"_parent\"><img src=\"https://colab.research.google.com/assets/colab-badge.svg\" alt=\"Open In Colab\"/></a>"
      ]
    },
    {
      "cell_type": "markdown",
      "source": [
        "# SEMANA 2\n"
      ],
      "metadata": {
        "id": "R3wOH8kf3PBQ"
      }
    },
    {
      "cell_type": "code",
      "source": [
        "print(type(\"hello\"))"
      ],
      "metadata": {
        "id": "xCtunS8f3sDJ",
        "outputId": "3ddde719-a5d6-49df-b3dd-990f8d45820f",
        "colab": {
          "base_uri": "https://localhost:8080/"
        }
      },
      "execution_count": 1,
      "outputs": [
        {
          "output_type": "stream",
          "name": "stdout",
          "text": [
            "<class 'str'>\n"
          ]
        }
      ]
    },
    {
      "cell_type": "code",
      "source": [
        "x=1\n",
        "print(type(x))"
      ],
      "metadata": {
        "id": "h_kpPCsN4OWI",
        "outputId": "84e2117b-bcb7-452c-fb20-098267aa60c8",
        "colab": {
          "base_uri": "https://localhost:8080/"
        }
      },
      "execution_count": 3,
      "outputs": [
        {
          "output_type": "stream",
          "name": "stdout",
          "text": [
            "<class 'int'>\n"
          ]
        }
      ]
    },
    {
      "cell_type": "code",
      "source": [
        "def hello():\n",
        "  print(\"hello\")\n",
        "\n",
        "X=1\n",
        "print(type(hello))"
      ],
      "metadata": {
        "id": "3Tlmnw9k4i91",
        "outputId": "31561fa6-8f95-4abe-9f81-3f3f1f4e6133",
        "colab": {
          "base_uri": "https://localhost:8080/"
        }
      },
      "execution_count": 4,
      "outputs": [
        {
          "output_type": "stream",
          "name": "stdout",
          "text": [
            "<class 'function'>\n"
          ]
        }
      ]
    },
    {
      "cell_type": "code",
      "source": [
        "#metodo funcion que esta dentro de una clase\n",
        "string=\"hello\"\n",
        "print(string.upper())\n"
      ],
      "metadata": {
        "id": "nSjNKaSQ5Yez",
        "outputId": "5b4f60f0-accd-4bd5-c006-f5ed3efc626f",
        "colab": {
          "base_uri": "https://localhost:8080/"
        }
      },
      "execution_count": 5,
      "outputs": [
        {
          "output_type": "stream",
          "name": "stdout",
          "text": [
            "HELLO\n"
          ]
        }
      ]
    },
    {
      "cell_type": "code",
      "source": [
        "class Dog:\n",
        "  def bark(self): # self \n",
        "    print(\"bark\")\n",
        "d=Dog()\n",
        "d.bark()\n",
        "print(type(d))\n"
      ],
      "metadata": {
        "id": "lKv9TowJ51No",
        "outputId": "e3aab7f8-d1e8-44f2-df36-ce7a044588b4",
        "colab": {
          "base_uri": "https://localhost:8080/"
        }
      },
      "execution_count": 7,
      "outputs": [
        {
          "output_type": "stream",
          "name": "stdout",
          "text": [
            "bark\n",
            "<class '__main__.Dog'>\n"
          ]
        }
      ]
    },
    {
      "cell_type": "code",
      "source": [
        "class Dog:\n",
        "  def add_one(self,x):\n",
        "    return x+1\n",
        "\n",
        "  def bark(self): # self \n",
        "    print(\"bark\")\n",
        "d=Dog()\n",
        "d.bark()\n",
        "print(d.add_one(5))\n",
        "print(type(d))"
      ],
      "metadata": {
        "id": "5_t7MSi_7BFd",
        "outputId": "77817b47-f9da-4254-9f8d-4b96b519db85",
        "colab": {
          "base_uri": "https://localhost:8080/"
        }
      },
      "execution_count": 9,
      "outputs": [
        {
          "output_type": "stream",
          "name": "stdout",
          "text": [
            "bark\n",
            "6\n",
            "<class '__main__.Dog'>\n"
          ]
        }
      ]
    },
    {
      "cell_type": "code",
      "source": [
        "class Dog:\n",
        "  def __init__(self, name,age):\n",
        "    self.name=name\n",
        "    self.age=age\n",
        "  def get_name(self):\n",
        "    return self.name\n",
        "  def get_age(self):\n",
        "    return self.age\n",
        " \n",
        "\n",
        "  \n",
        "D=Dog(\"Tim\",34)\n",
        "print(D.get_age())\n",
        "D2=Dog(\"Bill\",12)\n",
        "print(D2.get_age())"
      ],
      "metadata": {
        "id": "LfVvxIC57l6Q",
        "outputId": "be891a59-b9bd-407d-a30f-97e0f2562721",
        "colab": {
          "base_uri": "https://localhost:8080/"
        }
      },
      "execution_count": 23,
      "outputs": [
        {
          "output_type": "stream",
          "name": "stdout",
          "text": [
            "34\n",
            "12\n"
          ]
        }
      ]
    },
    {
      "cell_type": "code",
      "source": [
        "class Dog:\n",
        "  def __init__(self, name,age):\n",
        "    self.name=name\n",
        "    self.age=age\n",
        "  def get_name(self):\n",
        "    return self.name\n",
        "  def get_age(self):\n",
        "    return self.age\n",
        "  def set_age(self,age):\n",
        "    self.age=age\n",
        "\n",
        "D=Dog(\"Tim\",34)\n",
        "D.set_age(23)\n",
        "print(D.get_age())\n",
        "\n"
      ],
      "metadata": {
        "id": "2zF28dUiAmos",
        "outputId": "dc908d6b-06f5-4a28-ae52-67f8f2727325",
        "colab": {
          "base_uri": "https://localhost:8080/"
        }
      },
      "execution_count": 26,
      "outputs": [
        {
          "output_type": "stream",
          "name": "stdout",
          "text": [
            "23\n"
          ]
        }
      ]
    },
    {
      "cell_type": "code",
      "source": [
        "class student:\n",
        "  def __init__(self,name,age, grade):\n",
        "    self.name= name\n",
        "    self.age=age\n",
        "    self.grade=grade # 0- 100\n",
        "  def get_grade(self):\n",
        "    return self.grade\n",
        "class Course:\n",
        "  def __init__(self,name,max_students):\n",
        "    self.name = name\n",
        "    self.maxstudents= max_students\n",
        "    self.students=[]\n",
        "  def add_student(self,student):\n",
        "    if len(self.students)< self.maxstudents:\n",
        "      self.students.ap\n",
        "\n",
        "    "
      ],
      "metadata": {
        "id": "R62X-4PnCL0M"
      },
      "execution_count": 28,
      "outputs": []
    }
  ]
}