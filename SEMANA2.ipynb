{
  "nbformat": 4,
  "nbformat_minor": 0,
  "metadata": {
    "colab": {
      "provenance": [],
      "authorship_tag": "ABX9TyPC5XiPS8aEOvTi9WkWrvpL",
      "include_colab_link": true
    },
    "kernelspec": {
      "name": "python3",
      "display_name": "Python 3"
    },
    "language_info": {
      "name": "python"
    }
  },
  "cells": [
    {
      "cell_type": "markdown",
      "metadata": {
        "id": "view-in-github",
        "colab_type": "text"
      },
      "source": [
        "<a href=\"https://colab.research.google.com/github/PosgradoMNA/actividades-de-aprendizaje-toro-sal/blob/main/SEMANA2.ipynb\" target=\"_parent\"><img src=\"https://colab.research.google.com/assets/colab-badge.svg\" alt=\"Open In Colab\"/></a>"
      ]
    },
    {
      "cell_type": "markdown",
      "source": [
        "# SEMANA 2\n"
      ],
      "metadata": {
        "id": "R3wOH8kf3PBQ"
      }
    },
    {
      "cell_type": "code",
      "source": [
        "print(type(\"hello\"))"
      ],
      "metadata": {
        "colab": {
          "base_uri": "https://localhost:8080/"
        },
        "id": "xCtunS8f3sDJ",
        "outputId": "3ddde719-a5d6-49df-b3dd-990f8d45820f"
      },
      "execution_count": 1,
      "outputs": [
        {
          "output_type": "stream",
          "name": "stdout",
          "text": [
            "<class 'str'>\n"
          ]
        }
      ]
    },
    {
      "cell_type": "code",
      "source": [
        "x=1\n",
        "print(type(x))"
      ],
      "metadata": {
        "colab": {
          "base_uri": "https://localhost:8080/"
        },
        "id": "h_kpPCsN4OWI",
        "outputId": "84e2117b-bcb7-452c-fb20-098267aa60c8"
      },
      "execution_count": 3,
      "outputs": [
        {
          "output_type": "stream",
          "name": "stdout",
          "text": [
            "<class 'int'>\n"
          ]
        }
      ]
    },
    {
      "cell_type": "code",
      "source": [
        "def hello():\n",
        "  print(\"hello\")\n",
        "\n",
        "X=1\n",
        "print(type(hello))"
      ],
      "metadata": {
        "colab": {
          "base_uri": "https://localhost:8080/"
        },
        "id": "3Tlmnw9k4i91",
        "outputId": "31561fa6-8f95-4abe-9f81-3f3f1f4e6133"
      },
      "execution_count": 4,
      "outputs": [
        {
          "output_type": "stream",
          "name": "stdout",
          "text": [
            "<class 'function'>\n"
          ]
        }
      ]
    },
    {
      "cell_type": "code",
      "source": [
        "#metodo funcion que esta dentro de una clase\n",
        "string=\"hello\"\n",
        "print(string.upper())\n"
      ],
      "metadata": {
        "colab": {
          "base_uri": "https://localhost:8080/"
        },
        "id": "nSjNKaSQ5Yez",
        "outputId": "5b4f60f0-accd-4bd5-c006-f5ed3efc626f"
      },
      "execution_count": 5,
      "outputs": [
        {
          "output_type": "stream",
          "name": "stdout",
          "text": [
            "HELLO\n"
          ]
        }
      ]
    },
    {
      "cell_type": "code",
      "source": [
        "class Dog:\n",
        "  def bark(self): # self \n",
        "    print(\"bark\")\n",
        "d=Dog()\n",
        "d.bark()\n",
        "print(type(d))\n"
      ],
      "metadata": {
        "colab": {
          "base_uri": "https://localhost:8080/"
        },
        "id": "lKv9TowJ51No",
        "outputId": "e3aab7f8-d1e8-44f2-df36-ce7a044588b4"
      },
      "execution_count": 7,
      "outputs": [
        {
          "output_type": "stream",
          "name": "stdout",
          "text": [
            "bark\n",
            "<class '__main__.Dog'>\n"
          ]
        }
      ]
    },
    {
      "cell_type": "code",
      "source": [
        "class Dog:\n",
        "  def add_one(self,x):\n",
        "    return x+1\n",
        "\n",
        "  def bark(self): # self \n",
        "    print(\"bark\")\n",
        "d=Dog()\n",
        "d.bark()\n",
        "print(d.add_one(5))\n",
        "print(type(d))"
      ],
      "metadata": {
        "colab": {
          "base_uri": "https://localhost:8080/"
        },
        "id": "5_t7MSi_7BFd",
        "outputId": "77817b47-f9da-4254-9f8d-4b96b519db85"
      },
      "execution_count": 9,
      "outputs": [
        {
          "output_type": "stream",
          "name": "stdout",
          "text": [
            "bark\n",
            "6\n",
            "<class '__main__.Dog'>\n"
          ]
        }
      ]
    },
    {
      "cell_type": "code",
      "source": [
        "class Dog:\n",
        "  def __init__(self, name,age):\n",
        "    self.name=name\n",
        "    self.age=age\n",
        "  def get_name(self):\n",
        "    return self.name\n",
        "  def get_age(self):\n",
        "    return self.age\n",
        " \n",
        "\n",
        "  \n",
        "D=Dog(\"Tim\",34)\n",
        "print(D.get_age())\n",
        "D2=Dog(\"Bill\",12)\n",
        "print(D2.get_age())"
      ],
      "metadata": {
        "colab": {
          "base_uri": "https://localhost:8080/"
        },
        "id": "LfVvxIC57l6Q",
        "outputId": "be891a59-b9bd-407d-a30f-97e0f2562721"
      },
      "execution_count": 23,
      "outputs": [
        {
          "output_type": "stream",
          "name": "stdout",
          "text": [
            "34\n",
            "12\n"
          ]
        }
      ]
    },
    {
      "cell_type": "code",
      "source": [
        "class Dog:\n",
        "  def __init__(self, name,age):\n",
        "    self.name=name\n",
        "    self.age=age\n",
        "  def get_name(self):\n",
        "    return self.name\n",
        "  def get_age(self):\n",
        "    return self.age\n",
        "  def set_age(self,age):\n",
        "    self.age=age\n",
        "\n",
        "D=Dog(\"Tim\",34)\n",
        "D.set_age(23)\n",
        "print(D.get_age())\n",
        "\n"
      ],
      "metadata": {
        "colab": {
          "base_uri": "https://localhost:8080/"
        },
        "id": "2zF28dUiAmos",
        "outputId": "dc908d6b-06f5-4a28-ae52-67f8f2727325"
      },
      "execution_count": 26,
      "outputs": [
        {
          "output_type": "stream",
          "name": "stdout",
          "text": [
            "23\n"
          ]
        }
      ]
    },
    {
      "cell_type": "code",
      "source": [
        "class student:\n",
        "  def __init__(self,name,age, grade):\n",
        "    self.name= name\n",
        "    self.age=age\n",
        "    self.grade=grade # 0- 100\n",
        "  def get_grade(self):\n",
        "    return self.grade\n",
        "class Course:\n",
        "  def __init__(self,name,max_students):\n",
        "    self.name = name\n",
        "    self.maxstudents= max_students\n",
        "    self.students=[]\n",
        "  def add_student(self,student):\n",
        "    if len(self.students)< self.maxstudents:\n",
        "      self.students.append(student)\n",
        "      return True\n",
        "    return False\n",
        "  def get_average_grade(self):\n",
        "    value =0\n",
        "    for student in self.students:\n",
        "      value += student.get_grade()\n",
        "    return value/len(self.students)\n",
        "s1=student(\"Tim\",19,95)\n",
        "s2=student(\"joe\",19,75)\n",
        "s3=student(\"carl\",19,65)\n",
        "course=Course(\"science\",2)\n",
        "course.add_student(s1)\n",
        "course.add_student(s2)\n",
        "course.add_student(s3)\n",
        "print(course.students[0].name)\n",
        "print(course.get_average_grade())\n",
        "print(course.add_student(s3))\n",
        "\n",
        "    "
      ],
      "metadata": {
        "colab": {
          "base_uri": "https://localhost:8080/"
        },
        "id": "R62X-4PnCL0M",
        "outputId": "ebc9f80e-9138-475d-b2ff-70d74dac2f12"
      },
      "execution_count": 11,
      "outputs": [
        {
          "output_type": "stream",
          "name": "stdout",
          "text": [
            "Tim\n",
            "85.0\n",
            "False\n"
          ]
        }
      ]
    },
    {
      "cell_type": "code",
      "source": [
        "class Pet:\n",
        "  def __init__(self,name,age):\n",
        "    self.name=name\n",
        "    self.age=age\n",
        "\n",
        "  def show (self):\n",
        "    print(f\"I am {self.name} and i am {self.age} years old)\")\n",
        "  def speak(self):\n",
        "    print (\"i dont know what to say\")\n",
        "class Cat(Pet):\n",
        "  def __init__(self,name,age,color):\n",
        "    super().__init__(name,age)#define referencia classe pricipal despues el metodo, despues atributos\n",
        "    self.color=color\n",
        "  def speak(self):\n",
        "    print (\"meow\")\n",
        "  def show (self):\n",
        "    print(f\"I am {self.name} and i am {self.age} years old) and I am {self.color}\")\n",
        "class dog(Pet):\n",
        "  def speak(self):\n",
        "    print(\"bark\")\n",
        "class fish(Pet):\n",
        "  pass\n",
        "p = Pet(\"tim\",19)\n",
        "p.speak()\n",
        "c=Cat(\"bill\",34, \"blue\")\n",
        "c.speak()\n",
        "c.show()\n",
        "d=dog(\"carl\",25)\n",
        "d.speak()\n",
        "f=fish(\"bubles\",10)\n",
        "f.speak()\n"
      ],
      "metadata": {
        "colab": {
          "base_uri": "https://localhost:8080/"
        },
        "id": "jS-LylSc7t6G",
        "outputId": "724e1867-3d51-481b-cc79-68b3561ad2d1"
      },
      "execution_count": 28,
      "outputs": [
        {
          "output_type": "stream",
          "name": "stdout",
          "text": [
            "i dont know what to say\n",
            "meow\n",
            "I am bill and i am 34 years old) and I am blue\n",
            "bark\n",
            "i dont know what to say\n"
          ]
        }
      ]
    },
    {
      "cell_type": "markdown",
      "source": [
        "# Modulo 4\n"
      ],
      "metadata": {
        "id": "3LIdHp4rMHz5"
      }
    },
    {
      "cell_type": "code",
      "source": [
        "example1=\"example1.txt\"\n",
        "file=open(example1,\"r\")\n",
        "file.name\n",
        "file .mode\n",
        "filecontent=file.read()\n",
        "filecontent\n",
        "print(filecontent)\n",
        "type(filecontent)\n",
        "file.close()\n"
      ],
      "metadata": {
        "id": "09rXETweQO1Q",
        "outputId": "8b6e8d7e-2b82-4d54-b57d-a2430050e124",
        "colab": {
          "base_uri": "https://localhost:8080/"
        }
      },
      "execution_count": 76,
      "outputs": [
        {
          "output_type": "stream",
          "name": "stdout",
          "text": [
            "this is line 1\n",
            "this is line 2\n",
            "this is line 3\n"
          ]
        }
      ]
    },
    {
      "cell_type": "code",
      "source": [
        "with open(example1,\"r\")as file1:\n",
        "  Filecontent =file1.read()\n",
        "  print(Filecontent)\n",
        "  file1.closed"
      ],
      "metadata": {
        "id": "cDKBU0L4TXwY",
        "outputId": "83756478-926d-4551-8bc1-7b8f558aa569",
        "colab": {
          "base_uri": "https://localhost:8080/"
        }
      },
      "execution_count": 78,
      "outputs": [
        {
          "output_type": "stream",
          "name": "stdout",
          "text": [
            "this is line 1\n",
            "this is line 2\n",
            "this is line 3\n"
          ]
        }
      ]
    },
    {
      "cell_type": "code",
      "source": [
        "with open(example1, \"r\") as file1:\n",
        "    print(file1.read(4))"
      ],
      "metadata": {
        "id": "eg0jqONFT_C6",
        "outputId": "d4c08e7f-fb54-4730-a15e-5ff122e6aa78",
        "colab": {
          "base_uri": "https://localhost:8080/"
        }
      },
      "execution_count": 79,
      "outputs": [
        {
          "output_type": "stream",
          "name": "stdout",
          "text": [
            "this\n"
          ]
        }
      ]
    },
    {
      "cell_type": "code",
      "source": [
        "with open(example1, \"r\") as file1:\n",
        "    print(file1.read(4))\n",
        "    print(file1.read(4))\n",
        "    print(file1.read(7))\n",
        "    print(file1.read(15))"
      ],
      "metadata": {
        "id": "cJF8yvZ8UHi_",
        "outputId": "3e52fc86-5cb3-4074-a9bf-bea2dbdcf0e6",
        "colab": {
          "base_uri": "https://localhost:8080/"
        }
      },
      "execution_count": 80,
      "outputs": [
        {
          "output_type": "stream",
          "name": "stdout",
          "text": [
            "this\n",
            " is \n",
            "line 1\n",
            "\n",
            "this is line 2\n",
            "\n"
          ]
        }
      ]
    },
    {
      "cell_type": "code",
      "source": [
        "with open(example1, \"r\") as file1:\n",
        "    print(file1.read(16))\n",
        "    print(file1.read(5))\n",
        "    print(file1.read(9))"
      ],
      "metadata": {
        "id": "5PO5ZT1eUPRA",
        "outputId": "583c85aa-e0eb-46a7-ffeb-a9d6e63395e4",
        "colab": {
          "base_uri": "https://localhost:8080/"
        }
      },
      "execution_count": 81,
      "outputs": [
        {
          "output_type": "stream",
          "name": "stdout",
          "text": [
            "this is line 1\n",
            "t\n",
            "his i\n",
            "s line 2\n",
            "\n"
          ]
        }
      ]
    },
    {
      "cell_type": "code",
      "source": [
        "with open(example1, \"r\") as file1:\n",
        "    print(\"first line: \" + file1.readline())"
      ],
      "metadata": {
        "id": "_jv--8NuUVrf",
        "outputId": "a32beaf0-113f-4ca2-8465-18edd4cb6067",
        "colab": {
          "base_uri": "https://localhost:8080/"
        }
      },
      "execution_count": 82,
      "outputs": [
        {
          "output_type": "stream",
          "name": "stdout",
          "text": [
            "first line: this is line 1\n",
            "\n"
          ]
        }
      ]
    },
    {
      "cell_type": "code",
      "source": [
        "with open(example1, \"r\") as file1:\n",
        "    print(file1.readline(20)) # does not read past the end of line\n",
        "    print(file1.read(20)) # Returns the next 20 chars\n"
      ],
      "metadata": {
        "id": "YLkB0fDFUZxI",
        "outputId": "03d417b8-9841-4ff8-edec-75a41955b89d",
        "colab": {
          "base_uri": "https://localhost:8080/"
        }
      },
      "execution_count": 83,
      "outputs": [
        {
          "output_type": "stream",
          "name": "stdout",
          "text": [
            "this is line 1\n",
            "\n",
            "this is line 2\n",
            "this \n"
          ]
        }
      ]
    },
    {
      "cell_type": "code",
      "source": [
        "# Iterate through the lines\n",
        "\n",
        "with open(example1,\"r\") as file1:\n",
        "        i = 0;\n",
        "        for line in file1:\n",
        "            print(\"Iteration\", str(i), \": \", line)\n",
        "            i = i + 1"
      ],
      "metadata": {
        "id": "qax4DespUjGk",
        "outputId": "fb6685c6-e02b-44c8-ef45-5868a6701021",
        "colab": {
          "base_uri": "https://localhost:8080/"
        }
      },
      "execution_count": 84,
      "outputs": [
        {
          "output_type": "stream",
          "name": "stdout",
          "text": [
            "Iteration 0 :  this is line 1\n",
            "\n",
            "Iteration 1 :  this is line 2\n",
            "\n",
            "Iteration 2 :  this is line 3\n"
          ]
        }
      ]
    },
    {
      "cell_type": "code",
      "source": [
        "with open(example1, \"r\") as file1:\n",
        "    FileasList = file1.readlines()\n",
        "FileasList[0]"
      ],
      "metadata": {
        "id": "uD3k26dTUn7E",
        "outputId": "7ed17524-37fb-4fb6-ce33-4e4393965ccc",
        "colab": {
          "base_uri": "https://localhost:8080/",
          "height": 36
        }
      },
      "execution_count": 87,
      "outputs": [
        {
          "output_type": "execute_result",
          "data": {
            "text/plain": [
              "'this is line 1\\n'"
            ],
            "application/vnd.google.colaboratory.intrinsic+json": {
              "type": "string"
            }
          },
          "metadata": {},
          "execution_count": 87
        }
      ]
    }
  ]
}